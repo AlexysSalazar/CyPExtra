{
  "nbformat": 4,
  "nbformat_minor": 0,
  "metadata": {
    "colab": {
      "name": "CyP_Extras.ipynb",
      "provenance": []
    },
    "kernelspec": {
      "name": "python3",
      "display_name": "Python 3"
    },
    "language_info": {
      "name": "python"
    }
  },
  "cells": [
    {
      "cell_type": "code",
      "execution_count": 11,
      "metadata": {
        "id": "SLg4TJKEDZFO"
      },
      "outputs": [],
      "source": [
        "habitaciones = []\n",
        "\n",
        "hx = {\"numeros\": 101,\n",
        "      \"tipo\": \"sencilla\",\n",
        "      \"costo\": 0.0,\n",
        "      \"dias\":0,\n",
        "      \"huespedes\" :[],\n",
        "      \"comidas\": 0\n",
        "      }\n",
        "\n",
        "def menu():\n",
        "    print(\"1.- Check in\")\n",
        "    print(\"2.- Registro alimentos\")\n",
        "    print(\"3.- Check out\")\n",
        "    print(\"0.- Salir del sistema\")\n",
        "\n",
        "def menu_habitacion(hx):\n",
        "    opcion=1\n",
        "    while opcion !=0:\n",
        "        print(\"1) Hab sencilla\")\n",
        "        print(\"2) Hab doble\")\n",
        "        print(\"3) Hab suite\")\n",
        "        opcion = int(input(\"Tipo de habitacion?: \"))\n",
        "        if opcion == 1:\n",
        "            hx['costo']= 800.00\n",
        "            hx['tipo']= \"sencilla\"\n",
        "            #imprimir en pantalla habitaciones ocupadas\n",
        "        elif opcion == 2:\n",
        "            hx['costo']= 1200.00\n",
        "            hx['tipo']= \"doble\"\n",
        "            #imprimir en pantalla habitaciones ocupadas\n",
        "        elif opcion == 3:\n",
        "            hx['costo']= 1800.00\n",
        "            hx['tipo']= \"Junior suite\"\n",
        "            #imprimir en pantalla habitaciones ocupadas\n",
        "        else:\n",
        "            print(\"Opcion no valida\")\n",
        "        #imprimir en pantalla habitaciones ocupadas\n",
        "        hx['numero']= int(input(\"Numero de habitacion: \"))\n",
        "        return hx"
      ]
    },
    {
      "cell_type": "code",
      "source": [
        "opcion = 1\n",
        "while opcion !=0:\n",
        "    menu()\n",
        "    opcion = int(input(\"introduce tu eleccion: \"))\n",
        "    print(f\"elegiste {opcion} ...\")\n",
        "    #aqui va algo mas (toda la logica)\n",
        "    if opcion == 1:\n",
        "        print(\"---- Realizando Check-In ---\")\n",
        "        #Tipo de habitacion\n",
        "        hab = menu_habitacion(hx.copy())\n",
        "        #Total de dias\n",
        "        hab['dias']= int(input(\"Cuantos dias? \"))\n",
        "        #capturar, nombr y apellido paterno 1 ... 3.\n",
        "        if hab['tipo']==\"sencilla\":\n",
        "            huesped = {}\n",
        "            huesped['nombre']= input(\"nombre del huesped\")\n",
        "            huesped['paterno']= input(\"apellido del huesped\")\n",
        "            hab['huespedes'].append(huesped)\n",
        "        elif hab['tipo']==\"doble\":\n",
        "            for numero in range(2):\n",
        "                huesped = {}\n",
        "                huesped['nombre']= input(\"nombre del huesped\")\n",
        "                huesped['paterno']= input(\"apellido del huesped\")\n",
        "                hab['huespedes'].append(huesped)\n",
        "        elif hab['tipo']==\"Juniorsuite\":\n",
        "            for numero in range(3):\n",
        "                huesped = {}\n",
        "                huesped['nombre']= input(\"nombre del huesped\")\n",
        "                huesped['paterno']= input(\"apellido del huesped\")\n",
        "                hab['huespedes'].append(huesped)\n",
        "\n",
        "        #registrar en una variable global\n",
        "        habitaciones.append(hab)\n",
        "        print(habitaciones)\n",
        "    elif opcion == 2:\n",
        "        print(\"---- Realizando registro de alimentos ----\")\n",
        "    \n",
        "    elif opcion == 3:\n",
        "        print(\"---- Realizando Check-out ----\")\n",
        "    \n",
        "    elif opcion ==0:\n",
        "        print(\"--- Adios ---\")\n",
        "\n",
        "    else:\n",
        "        print(\"---OPCION NO VALIDA---\")"
      ],
      "metadata": {
        "id": "rMCZ7XNtEDLH"
      },
      "execution_count": null,
      "outputs": []
    }
  ]
}